{
  "nbformat": 4,
  "nbformat_minor": 0,
  "metadata": {
    "colab": {
      "name": "Rock,Paper,Scissor_College Finder Project_2.ipynb",
      "provenance": []
    },
    "kernelspec": {
      "name": "python3",
      "display_name": "Python 3"
    },
    "language_info": {
      "name": "python"
    }
  },
  "cells": [
    {
      "cell_type": "code",
      "execution_count": 16,
      "metadata": {
        "id": "80wlugWHqLLV",
        "colab": {
          "base_uri": "https://localhost:8080/"
        },
        "outputId": "34736d82-b76f-4476-e016-3e8c431b3920"
      },
      "outputs": [
        {
          "output_type": "stream",
          "name": "stdout",
          "text": [
            "Enter your choice to choose one \n",
            "1. Rock\n",
            "2. Paper\n",
            "3. Scissor\n",
            "Paper\n",
            "Paper wins over Rock. Hence you Won!\n"
          ]
        }
      ],
      "source": [
        "import random\n",
        "\n",
        "user=str(input(\"Enter your choice to choose one \\n1. Rock\\n2. Paper\\n3. Scissor\\n\"))\n",
        "comp=[\"Rock\",\"Paper\",\"Scissor\"]\n",
        "result=random.choice(comp)\n",
        "\n",
        "if (user==result):\n",
        "  print(\"You chose {} and the computer also chose {}. Hence, It's a Tie\".format(result,result))\n",
        "elif (user==\"Rock\" and result==\"Scissor\" ):\n",
        "  print(\"Rock wins over Scissor. Hence you Won!\")\n",
        "elif (user==\"Scissor\" and result==\"Rock\" ):\n",
        "  print(\"Scissor looses over Rock. Hence you loose and the Computer wins!\")\n",
        "elif (user==\"Paper\" and result==\"Scissor\" ):\n",
        "  print(\"Paper looses over Scissor. Hence you loose and the Computer wins!\")\n",
        "elif (user==\"Scissor\" and result==\"Paper\" ):\n",
        "  print(\"Scissor wins over Paper. Hence you Won!\")\n",
        "elif (user==\"Rock\" and result==\"Paper\" ):\n",
        "  print(\"Rock Looses over Paper. Hence you loose and the Computer wins!\")\n",
        "elif (user==\"Paper\" and result==\"Rock\" ):\n",
        "  print(\"Paper wins over Rock. Hence you Won!\")"
      ]
    }
  ]
}