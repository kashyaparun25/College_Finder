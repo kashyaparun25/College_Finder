{
  "nbformat": 4,
  "nbformat_minor": 0,
  "metadata": {
    "colab": {
      "name": "Driving Eligibility.ipynb",
      "provenance": [],
      "collapsed_sections": []
    },
    "kernelspec": {
      "name": "python3",
      "display_name": "Python 3"
    },
    "language_info": {
      "name": "python"
    }
  },
  "cells": [
    {
      "cell_type": "code",
      "execution_count": 12,
      "metadata": {
        "colab": {
          "base_uri": "https://localhost:8080/"
        },
        "id": "e0fa6Jod4D1J",
        "outputId": "57925e21-5196-4f1d-93dd-840c9edd6be4"
      },
      "outputs": [
        {
          "output_type": "stream",
          "name": "stdout",
          "text": [
            "Do you have a valid Driving Licence?(Yes/No) : yes\n",
            "Enter Your Age : 18\n",
            "Congratulations! You are Eligible to Drive :-)\n"
          ]
        }
      ],
      "source": [
        "dl=str(input(\"Do you have a valid Driving Licence?(Yes/No) : \"))\n",
        "age=int(input(\"Enter Your Age : \"))\n",
        "if ((dl==(\"Yes\") or dl == (\"yes\") or dl == (\"YES\")) and (age>=18)):\n",
        "    print(\"Congratulations! You are Eligible to Drive :-)\")\n",
        "elif ((dl==(\"No\") or dl == (\"no\") or dl == (\"NO\")) and (age==18)):\n",
        "    print(\"Caution! You are Not Eligible to Drive :-( \\n Please get yourself a Driving License\")\n",
        "elif ((dl==(\"No\") or dl == (\"no\") or dl == (\"NO\")) and (age<18)):\n",
        "    print(\"Caution! You are Not Eligible to Drive :-(\\nYou are still a minor\")\n",
        "elif ((dl==(\"Yes\") or dl == (\"yes\") or dl == (\"YES\")) and (age<18)):\n",
        "    print(\"Caution! You are Not Eligible to Drive :-( \\nYou Do not satisfy the age criteria for a Driving License\")\n",
        "else:\n",
        "    print(\"Caution! You are Not Eligible to Drive :-(\")"
      ]
    }
  ]
}