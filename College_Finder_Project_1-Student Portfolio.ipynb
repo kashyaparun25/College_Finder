{
  "nbformat": 4,
  "nbformat_minor": 0,
  "metadata": {
    "colab": {
      "name": "College_Finder_Project_1.ipynb",
      "provenance": [],
      "collapsed_sections": []
    },
    "kernelspec": {
      "name": "python3",
      "display_name": "Python 3"
    },
    "language_info": {
      "name": "python"
    }
  },
  "cells": [
    {
      "cell_type": "markdown",
      "source": [
        "# Student Portfolio\n",
        "\n",
        "Take input from user Name of the student, Class, Roll No,3 Subject, Marks, display overall Percentage"
      ],
      "metadata": {
        "id": "UkWQDuqv_r1a"
      }
    },
    {
      "cell_type": "code",
      "execution_count": 11,
      "metadata": {
        "colab": {
          "base_uri": "https://localhost:8080/"
        },
        "id": "kmYDEHdt_be2",
        "outputId": "67654842-d59b-45e4-b20d-38c799c05eda"
      },
      "outputs": [
        {
          "output_type": "stream",
          "name": "stdout",
          "text": [
            "Enter the name of the student:Arun\n",
            "Enter the class to which the student belongs to (1-10):9\n",
            "Enter the roll number of the student:12\n",
            "Enter the marks of the student in Math:85\n",
            "Enter the marks of the student in Science:87\n",
            "Enter the marks of the student in English:90\n",
            "Arun of class 9 with roll number 12 has secured the following scores :\n",
            "85/100 marks in Math, \n",
            "87/100 marks in Science and \n",
            "90/100 marks in English. \n",
            "Congratulations!!! Arun for scoring a total of 87%\n"
          ]
        }
      ],
      "source": [
        "Name=str(input('Enter the name of the student:'))\n",
        "Class=int(input('Enter the class to which the student belongs to (1-10):'))\n",
        "rollNo=int(input('Enter the roll number of the student:'))\n",
        "subMarks1=int(input('Enter the marks of the student in Math:'))\n",
        "subMarks2=int(input('Enter the marks of the student in Science:'))\n",
        "subMarks3=int(input('Enter the marks of the student in English:'))\n",
        "perc=int((subMarks1 + subMarks2 + subMarks3)/3)\n",
        "print('{} of class {} with roll number {} has secured the following scores :\\n{}/100 marks in Math, \\n{}/100 marks in Science and \\n{}/100 marks in English. \\nCongratulations!!! {} for scoring a total of {}%'. format(Name,Class,rollNo,subMarks1,subMarks2,subMarks3,Name,perc))"
      ]
    }
  ]
}